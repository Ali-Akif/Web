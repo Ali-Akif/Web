{
  "cells": [
   {
    "cell_type": "markdown",
    "metadata": {},
    "source": [
     "# JavaScript Bible\n",
     "A reference guide for JavaScript concepts and best practices."
    ]
   },
   {
    "cell_type": "markdown",
    "metadata": {},
    "source": [
     "## Table of Contents\n",
     "1. [Problem Solving and Planning](#problem-solving-and-planning)\n",
     "2. [Error Handling](#error-handling)\n",
     "3. [Data Types](#data-types)\n",
     "4. [Variables and Quotes](#variables-and-quotes)\n",
     "5. [Type Conversions and Math](#type-conversions-and-math)\n",
     "6. [String Methods](#string-methods)\n",
     "7. [Operators](#operators)\n",
     "8. [Truthy and Falsy Values](#truthy-and-falsy-values)\n",
     "9. [Conditionals](#conditionals)\n",
     "10. [Nesting](#nesting)\n",
     "11. [Functions Overview](#functions-overview)\n",
     "12. [Loops Overview](#loops-overview)\n",
     "13. [Arrays Overview](#arrays-overview)\n",
     "14. [DOM Manipulation and Events](#dom-manipulation-and-events)\n",
     "15. [Etch-A-Sketch Project Summary](#etch-a-sketch-project-summary)"
    ]
   },
   {
    "cell_type": "markdown",
    "metadata": {},
    "source": [
     "## Problem Solving and Planning\n",
     "1. **Understand**: Explain the concept simply to ensure understanding.\n",
     "2. **Plan**: Break down the steps from input X to output Y.\n",
     "3. **Divide**: Simplify the problem and solve smaller parts first.\n",
     "4. **Stuck?**: Debug step-by-step, reassess the problem, research sub-problems.\n",
     "5. **Practice**: Regular practice helps recognize patterns and solutions.\n",
     "Useful resources: Coding puzzles, chess, Sudoku, and other logic games."
    ]
   },
   {
    "cell_type": "markdown",
    "metadata": {},
    "source": [
     "## Error Handling\n",
     "1. **Try...Catch**: Use `try` to execute code that may throw an error, `catch` to handle the error.\n",
     "2. **Common Errors**:\n",
     "   - `ReferenceError`: Accessing an undefined variable.\n",
     "   - `SyntaxError`: Code doesn't follow JavaScript syntax rules.\n",
     "   - `TypeError`: Incorrect type or method used.\n",
     "```javascript\n",
     "try {\n",
     "  // Code that may throw an error\n",
     "} catch (error) {\n",
     "  console.error(error.message);\n",
     "}\n",
     "```"
    ]
   },
   {
    "cell_type": "markdown",
    "metadata": {},
    "source": [
     "## Data Types\n",
     "JavaScript supports several data types:\n",
     "- **Number**: e.g., `42`\n",
     "- **String**: e.g., `\"Hello\"`\n",
     "- **Boolean**: e.g., `true` or `false`\n",
     "- **Object**: e.g., `{ name: \"John\" }`\n",
     "- **Undefined**: variable declared but not assigned a value\n",
     "- **Null**: intentional absence of any object value\n",
     "- **Symbol**: unique and immutable data type\n",
     "- **BigInt**: for large integers\n",
     "```javascript\n",
     "const numberType = 42;\n",
     "const stringType = \"Hello\";\n",
     "const booleanType = true;\n",
     "const objectType = { name: \"John\" };\n",
     "const undefinedType = undefined;\n",
     "const nullType = null;\n",
     "const symbolType = Symbol(\"id\");\n",
     "const bigIntType = 1234567890123456789012345678901234567890n;\n",
     "```"
    ]
   },
   {
    "cell_type": "markdown",
    "metadata": {},
    "source": [
     "## Variables and Quotes\n",
     "### Variables\n",
     "- Declared with `var`, `let`, or `const`.\n",
     "- Use `let` for mutable variables, `const` for immutable variables.\n",
     "### Strings\n",
     "- Defined using single, double, or backtick quotes.\n",
     "```javascript\n",
     "let variable;\n",
     "const constant = 'Hello';\n",
     "const name = \"John Doe\";\n",
     "const greeting = `Hello, ${name}`; // Template literal\n",
     "```"
    ]
   },
   {
    "cell_type": "markdown",
    "metadata": {},
    "source": [
     "## Type Conversions and Math\n",
     "### Type Conversion\n",
     "- Use `Number()`, `String()`, etc., to convert types.\n",
     "### Basic Math\n",
     "- Operators: `+`, `-`, `*`, `/`, `%`, `++`, `--`\n",
     "```javascript\n",
     "const numberString = \"42\";\n",
     "const convertedNumber = Number(numberString); // 42\n",
     "let a = 50, b = 50;\n",
     "console.log(a + b); // 100\n",
     "a++;\n",
     "console.log(a); // 51\n",
     "```"
    ]
   },
   {
    "cell_type": "markdown",
    "metadata": {},
    "source": [
     "## String Methods\n",
     "- `length`: Get the length of the string.\n",
     "- `slice`, `substring`, `substr`: Extract parts of a string.\n",
     "- `toUpperCase`, `toLowerCase`: Change case.\n",
     "- `trim`: Remove whitespace.\n",
     "- `padStart`, `padEnd`: Pad the string.\n",
     "- `repeat`: Repeat the string.\n",
     "- `replace`, `replaceAll`: Replace parts of a string.\n",
     "- `split`: Split string into an array.\n",
     "```javascript\n",
     "const text = \"hello\";\n",
     "console.log(text.toUpperCase()); // \"HELLO\"\n",
     "console.log(text.slice(1, 3)); // \"el\"\n",
     "```"
    ]
   },
   {
    "cell_type": "markdown",
    "metadata": {},
    "source": [
     "## Operators\n",
     "### Logical Operators\n",
     "- `&&` (and), `||` (or), `!` (not)\n",
     "### Comparison Operators\n",
     "- `==`, `===`, `!=`, `!==`, `>`, `<`, `>=`, `<=`\n",
     "### Arithmetic Operators\n",
     "- `+=`, `-=`, `*=`, `/=`\n",
     "### Ternary Operator\n",
     "```javascript\n",
     "const isAdult = age >= 18 ? \"Yes\" : \"No\";\n",
     "console.log(`Is adult: ${isAdult}`); // \"Yes\"\n",
     "```"
    ]
   },
   {
    "cell_type": "markdown",
    "metadata": {},
    "source": [
     "## Truthy and Falsy Values\n",
     "### Falsy Values\n",
     "- `false`, `0`, `\"\"`, `null`, `undefined`, `NaN`\n",
     "### Truthy Values\n",
     "- Everything else.\n",
     "```javascript\n",
     "console.log(!!0); // false\n",
     "console.log(!!1); // true\n",
     "```"
    ]
   },
   {
    "cell_type": "markdown",
    "metadata": {},
    "source": [
     "## Conditionals\n",
     "### Conditionals\n",
     "- `if/else` statements.\n",
     "- `switch` statements.\n",
     "- Ternary operator for short conditions.\n",
     "```javascript\n",
     "const age = 20;\n",
     "if (age >= 18) {\n",
     "  console.log(\"You are an adult.\");\n",
     "} else {\n",
     "  console.log(\"You are a minor.\");\n",
     "}\n",
     "const fruit = \"apple\";\n",
     "switch (fruit) {\n",
     "  case \"banana\":\n",
     "    console.log(\"Banana selected.\");\n",
     "    break;\n",
     "  case \"apple\":\n",
     "    console.log(\"Apple selected.\");\n",
     "    break;\n",
     "  default:\n",
     "    console.log(\"No fruit selected.\");\n",
     "}\n",
     "```"
    ]
   },
   {
    "cell_type": "markdown",
    "metadata": {},
    "source": [
     "## Nesting\n",
     "### Nesting\n",
     "- Placing control structures inside others, e.g., if inside another if.\n",
     "```javascript\n",
     "if (age >= 18) {\n",
     "  if (age >= 21) {\n",
     "    console.log(\"You can drink alcohol.\");\n",
     "  } else {\n",
     "    console.log(\"You are an adult but cannot drink alcohol.\");\n",
     "  }\n",
     "}\n",
     "```"
    ]
   },
   {
    "cell_type": "markdown",
    "metadata": {},
    "source": [
     "## Functions Overview\n",
     "### Functions\n",
     "- Define reusable blocks of code.\n",
     "- Can accept parameters and return values.\n",
     "### Types\n",
     "- Function declaration\n",
     "- Anonymous function (often used with event handlers)\n",
     "- Arrow function (concise syntax, no own `this`)\n",
     "```javascript\n",
     "function greet(name) {\n",
     "  return `Hello, ${name}`;\n",
     "}\n",
     "console.log(greet(\"John\")); // \"Hello, John\"\n",
     "const double = x => x * 2;\n",
     "console.log(double(4)); // 8\n",
     "```"
    ]
   },
   {
    "cell_type": "markdown",
    "metadata": {},
    "source": [
     "## Loops Overview\n",
     "### Loops\n",
     "- `while`: Repeats as long as a condition is true.\n",
     "- `for`: Runs a block of code a specified number of times.\n",
     "- `for...of`: Iterates over iterable objects (arrays, strings).\n",
     "- `for...in`: Iterates over object properties.\n",
     "```javascript\n",
     "const fruits = [\"apple\", \"banana\", \"cherry\"];\n",
     "for (const fruit of fruits) {\n",
     "  console.log(fruit);\n",
     "}\n",
     "const person = { name: \"John\", age: 30 };\n",
     "for (const key in person) {\n",
     "  console.log(`${key}: ${person[key]}`);\n",
     "}\n",
     "```"
    ]
   },
   {
    "cell_type": "markdown",
    "metadata": {},
    "source": [
     "## Arrays Overview\n",
     "### Arrays\n",
     "- Collection of elements.\n",
     "- Can hold mixed data types.\n",
     "### Methods\n",
     "- `push`, `pop`, `shift`, `unshift`: Add/remove elements.\n",
     "- `forEach`, `map`, `filter`, `reduce`: Array iteration and transformation.\n",
     "```javascript\n",
     "const numbers = [1, 2, 3, 4, 5];\n",
     "numbers.push(6); // [1, 2, 3, 4, 5, 6]\n",
     "const doubled = numbers.map(num => num * 2);\n",
     "console.log(doubled); // [2, 4, 6, 8, 10]\n",
     "```\n",
     "More array methods at [W3Schools](https://www.w3schools.com/js/js_array_methods.asp)"
    ]
   },
   {
    "cell_type": "markdown",
    "metadata": {},
    "source": [
     "## DOM Manipulation and Events\n",
     "### DOM Manipulation\n",
     "- **Document Object Model (DOM)**: Interface to manipulate HTML and XML documents.\n",
     "- **Common Methods**:\n",
     "  - `document.getElementById(id)`: Select element by ID.\n",
     "  - `document.getElementsByClassName(className)`: Select elements by class name.\n",
     "  - `document.getElementsByTagName(tagName)`: Select elements by tag name.\n",
     "  - `document.querySelector(selector)`: Select the first element that matches the CSS selector.\n",
     "  - `document.querySelectorAll(selector)`: Select all elements that match the CSS selector.\n",
     "```javascript\n",
     "const heading = document.getElementById('myHeading');\n",
     "heading.textContent = 'Hello, DOM!'; // Change text content\n",
     "heading.style.color = 'blue'; // Change style\n",
     "```"
    ]
   },
   {
    "cell_type": "markdown",
    "metadata": {},
    "source": [
     "### Manipulating Elements\n",
     "- **Text Content**: `element.textContent`\n",
     "- **HTML Content**: `element.innerHTML`\n",
     "- **Attributes**: `element.getAttribute(attributeName)`, `element.setAttribute(attributeName, value)`\n",
     "- **Styles**: `element.style.propertyName = value`\n",
     "### Creating and Appending Elements\n",
     "- **Create Element**: `document.createElement(tagName)`\n",
     "- **Append Child**: `parentElement.appendChild(newElement)`\n",
     "```javascript\n",
     "const newParagraph = document.createElement('p');\n",
     "newParagraph.textContent = 'This is a new paragraph.';\n",
     "document.body.appendChild(newParagraph);\n",
     "```"
    ]
   },
   {
    "cell_type": "markdown",
    "metadata": {},
    "source": [
     "### Events\n",
     "- **Event Listeners**: Functions that execute when an event occurs.\n",
     "- **Common Events**: `click`, `mouseover`, `mouseout`, `keydown`, `load`, etc.\n",
     "- **Adding Event Listeners**: `element.addEventListener(event, function)`\n",
     "```javascript\n",
     "const button = document.getElementById('myButton');\n",
     "button.addEventListener('click', () => {\n",
     "  alert('Button was clicked!');\n",
     "});\n",
     "```\n",
     "- **Remove Event Listener**: `element.removeEventListener(event, function)`\n",
     "```javascript\n",
     "const button = document.getElementById('myButton');\n",
     "function handleClick() {\n",
     "  alert('Button was clicked!');\n",
     "}\n",
     "button.addEventListener('click', handleClick);\n",
     "button.removeEventListener('click', handleClick);\n",
     "```\n",
     "- **Event Propagation**: `event.stopPropagation()`\n",
     "```javascript\n",
     "document.getElementById('parent').addEventListener('click', () => {\n",
     "  alert('Parent clicked!');\n",
     "});\n",
     "document.getElementById('child').addEventListener('click', (event) => {\n",
     "  alert('Child clicked!');\n",
     "  event.stopPropagation(); // Prevents parent from being notified\n",
     "});\n",
     "```\n",
     "- **Prevent Default Behavior**: `event.preventDefault()`\n",
     "```javascript\n",
     "const link = document.getElementById('myLink');\n",
     "link.addEventListener('click', (event) => {\n",
     "  event.preventDefault(); // Prevents the default action of the link\n",
     "  alert('Link click prevented!');\n",
     "});\n",
     "```\n",
     "More DOM methods and events at [MDN Web Docs](https://developer.mozilla.org/en-US/docs/Web/API/Document_Object_Model)."
    ]
   },
   {
     "cell_type": "markdown",
     "metadata": {},
     "source": [
      "## Etch-A-Sketch Project Summary\n",
      "### HTML Structure\n",
      "- **Doctype**: `<!DOCTYPE html>` for HTML5\n",
      "- **Language**: Specify language with `lang` attribute\n",
      "- **Encoding**: `meta charset=\"UTF-8\"`\n",
      "- **Viewport**: Configure viewport with `meta name=\"viewport\"`\n",
      "- **Links and Scripts**: Link CSS and JS files\n",
      "### CSS Styling\n",
      "- **Flexbox**: Center and align elements\n",
      "- **Grid Layout**: Create a responsive grid\n",
      "- **Responsive Design**: Use relative units like `vw` and `vh`\n",
      "- **Reset and Box-Sizing**: `box-sizing: border-box`\n",
      "### JavaScript Interactivity\n",
      "- **Event Listeners**: Respond to user interactions\n",
      "- **DOM Manipulation**: Add, remove, modify HTML elements\n",
      "- **Drawing Modes**: Implement different modes (pen, rainbow, eraser)\n",
      "- **Dynamic Grid**: Allow user to change grid size\n",
      "### Accessibility and UX\n",
      "- **Labels and Accessibility**: Use `label` and `aria-*` attributes\n",
      "- **Prevent Default Behaviors**: Use `event.preventDefault()`\n",
      "- **Visual Indicators**: Provide immediate feedback\n",
      "### Optimization and Best Practices\n",
      "- **Modularity**: Structure code into reusable functions\n",
      "- **Performance**: Optimize DOM operations and use techniques like debouncing\n",
      "- **Testing and Debugging**: Use development tools and console"
     ]
    }
  ],
  "metadata": {
   "kernelspec": {
    "display_name": "JavaScript (Node.js)",
    "language": "javascript",
    "name": "javascript"
   },
   "language_info": {
    "file_extension": ".js",
    "mimetype": "application/javascript",
    "name": "javascript",
    "version": "12.14.1"
   }
  },
  "nbformat": 4,
  "nbformat_minor": 2
 }
 