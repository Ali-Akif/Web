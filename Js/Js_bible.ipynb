{
 "cells": [
  {
   "cell_type": "markdown",
   "metadata": {},
   "source": [
    "# JavaScript Bible\n",
    "A reference guide for JavaScript concepts and best practices."
   ]
  },
  {
   "cell_type": "markdown",
   "metadata": {},
   "source": [
    "## Table of Contents\n",
    "0. [Problem Solving and Planning](#chapter-0-problem-solving-and-planning)\n",
    "0. [Error Handling and Understanding JavaScript Errors](#chapter-02-error-handling-and-understanding-javascript-errors)\n",
    "1. [Data Types in JavaScript](#chapter-1-data-types-in-javascript)\n",
    "2. [Variables and Quotes](#chapter-2-variables-and-quotes)\n",
    "3. [Type Conversions and Basic Math](#chapter-3-type-conversions-and-basic-math)\n",
    "4. [String Methods](#chapter-4-string-methods)\n",
    "5. [Operators](#chapter-5-operators)\n",
    "6. [Truthy and Falsy Values](#chapter-6-truthy-and-falsy-values)\n",
    "7. [Conditionals](#chapter-7-conditionals)\n",
    "8. [Nesting](#chapter-8-nesting)\n",
    "9. [JavaScript Functions Overview](#chapter-9-javascript-functions-overview)\n",
    "10. [JavaScript Loops Overview](#chapter-10-javascript-loops-overview)\n",
    "11. [JavaScript Arrays Overview](#chapter-11-javascript-arrays-overview)\n",
    "11. [DOM Manipulation and Events Overview](#chapter-12-dom-manipulation-and-events-overview)\n"
   ]
  },
  {
   "cell_type": "markdown",
   "metadata": {},
   "source": [
    "## CHAPTER 0: Problem Solving and Planning\n",
    "\n",
    "1. **Understand**\n",
    "   - Explain the concept simply to ensure understanding.\n",
    "\n",
    "2. **Plan**\n",
    "   - Break down the steps from input X to output Y.\n",
    "\n",
    "3. **Divide**\n",
    "   - Simplify the problem and solve smaller parts first.\n",
    "\n",
    "4. **Stuck?**\n",
    "   - Debug step-by-step.\n",
    "   - Reassess the problem from a new perspective.\n",
    "   - Research sub-problems without searching for full solutions.\n",
    "\n",
    "5. **Practice**\n",
    "   - Regular practice with micro problem-solving helps in recognizing patterns and solutions.\n",
    "\n",
    "Useful resources: Coding puzzles, chess, Sudoku, and other logic games."
   ]
  },
  {
   "cell_type": "markdown",
   "metadata": {},
   "source": [
    "## CHAPTER 0.2: Error Handling and Understanding JavaScript Errors\n",
    "\n",
    "1. **Try...Catch**\n",
    "   - Use `try` to execute code that may throw an error.\n",
    "   - `Catch` block handles the error if it occurs.\n",
    "\n",
    "2. **Common Errors**\n",
    "   - `ReferenceError`: Accessing an undefined variable.\n",
    "   - `SyntaxError`: Code doesn't follow JavaScript syntax rules.\n",
    "   - `TypeError`: Incorrect type or method used.\n",
    "\n",
    "Example:\n",
    "```javascript\n",
    "try {\n",
    "  // Code that may throw an error\n",
    "} catch (error) {\n",
    "  console.error(error.message);\n",
    "}\n",
    "```"
   ]
  },
  {
   "cell_type": "markdown",
   "metadata": {},
   "source": [
    "## CHAPTER 1: Data Types in JavaScript\n",
    "\n",
    "JavaScript supports several data types:\n",
    "- **Number**: e.g., `42`\n",
    "- **String**: e.g., `\"Hello\"`\n",
    "- **Boolean**: e.g., `true` or `false`\n",
    "- **Object**: e.g., `{ name: \"John\" }`\n",
    "- **Undefined**: variable declared but not assigned a value\n",
    "- **Null**: intentional absence of any object value\n",
    "- **Symbol**: unique and immutable data type\n",
    "- **BigInt**: for large integers\n",
    "\n",
    "Example:\n",
    "```javascript\n",
    "const numberType = 42;\n",
    "const stringType = \"Hello\";\n",
    "const booleanType = true;\n",
    "const objectType = { name: \"John\" };\n",
    "const undefinedType = undefined;\n",
    "const nullType = null;\n",
    "const symbolType = Symbol(\"id\");\n",
    "const bigIntType = 1234567890123456789012345678901234567890n;\n",
    "```"
   ]
  },
  {
   "cell_type": "markdown",
   "metadata": {},
   "source": [
    "## CHAPTER 2: Variables and Quotes\n",
    "\n",
    "### Variables:\n",
    "- Declared with `var`, `let`, or `const`.\n",
    "- Use `let` for mutable variables, `const` for immutable variables.\n",
    "\n",
    "### Strings:\n",
    "- Can be defined using single, double, or backtick quotes.\n",
    "\n",
    "Example:\n",
    "```javascript\n",
    "let variable;\n",
    "const constant = 'Hello';\n",
    "\n",
    "const name = \"John Doe\";\n",
    "const greeting = `Hello, ${name}`; // Template literal\n",
    "```"
   ]
  },
  {
   "cell_type": "markdown",
   "metadata": {},
   "source": [
    "## CHAPTER 3: Type Conversions and Basic Math\n",
    "\n",
    "### Type Conversion:\n",
    "- Use `Number()`, `String()`, etc., to convert types.\n",
    "\n",
    "### Basic Math:\n",
    "- Operators: `+`, `-`, `*`, `/`, `%`, `++`, `--`\n",
    "\n",
    "Example:\n",
    "```javascript\n",
    "const numberString = \"42\";\n",
    "const convertedNumber = Number(numberString); // 42\n",
    "\n",
    "let a = 50, b = 50;\n",
    "console.log(a + b); // 100\n",
    "a++;\n",
    "console.log(a); // 51\n",
    "```"
   ]
  },
  {
   "cell_type": "markdown",
   "metadata": {},
   "source": [
    "## CHAPTER 4: String Methods\n",
    "\n",
    "### Common String Methods:\n",
    "- `length`: Get the length of the string.\n",
    "- `slice`, `substring`, `substr`: Extract parts of a string.\n",
    "- `toUpperCase`, `toLowerCase`: Change case.\n",
    "- `trim`: Remove whitespace.\n",
    "- `padStart`, `padEnd`: Pad the string.\n",
    "- `repeat`: Repeat the string.\n",
    "- `replace`, `replaceAll`: Replace parts of a string.\n",
    "- `split`: Split string into an array.\n",
    "\n",
    "Example:\n",
    "```javascript\n",
    "const text = \"hello\";\n",
    "console.log(text.toUpperCase()); // \"HELLO\"\n",
    "console.log(text.slice(1, 3)); // \"el\"\n",
    "```"
   ]
  },
  {
   "cell_type": "markdown",
   "metadata": {},
   "source": [
    "## CHAPTER 5: Operators\n",
    "\n",
    "### Logical Operators:\n",
    "- `&&` (and), `||` (or), `!` (not)\n",
    "\n",
    "### Comparison Operators:\n",
    "- `==`, `===`, `!=`, `!==`, `>`, `<`, `>=`, `<=`\n",
    "\n",
    "Example:\n",
    "```javascript\n",
    "console.log(5 == \"5\"); // true\n",
    "console.log(5 === \"5\"); // false\n",
    "```\n",
    "\n",
    "### Arithmetic Operators:\n",
    "- `+=`, `-=`, `*=`, `/=`\n",
    "\n",
    "### Ternary Operator:\n",
    "```javascript\n",
    "const isAdult = age >= 18 ? \"Yes\" : \"No\";\n",
    "console.log(`Is adult: ${isAdult}`); // \"Yes\"\n",
    "```"
   ]
  },
  {
   "cell_type": "markdown",
   "metadata": {},
   "source": [
    "## CHAPTER 6: Truthy and Falsy Values\n",
    "\n",
    "### Falsy Values:\n",
    "- `false`, `0`, `\"\"`, `null`, `undefined`, `NaN`\n",
    "\n",
    "### Truthy Values:\n",
    "- Everything else.\n",
    "\n",
    "Example:\n",
    "```javascript\n",
    "console.log(!!0); // false\n",
    "console.log(!!1); // true\n",
    "```"
   ]
  },
  {
   "cell_type": "markdown",
   "metadata": {},
   "source": [
    "## CHAPTER 7: Conditionals\n",
    "\n",
    "### Conditionals:\n",
    "- `if/else` statements.\n",
    "- `switch` statements.\n",
    "- Ternary operator for short conditions.\n",
    "\n",
    "Example:\n",
    "```javascript\n",
    "const age = 20;\n",
    "if (age >= 18) {\n",
    "  console.log(\"You are an adult.\");\n",
    "} else {\n",
    "  console.log(\"You are a minor.\");\n",
    "}\n",
    "\n",
    "const fruit = \"apple\";\n",
    "switch (fruit) {\n",
    "  case \"banana\":\n",
    "    console.log(\"Banana selected.\");\n",
    "    break;\n",
    "  case \"apple\":\n",
    "    console.log(\"Apple selected.\");\n",
    "    break;\n",
    "  default:\n",
    "    console.log(\"No fruit selected.\");\n",
    "}\n",
    "```"
   ]
  },
  {
   "cell_type": "markdown",
   "metadata": {},
   "source": [
    "## CHAPTER 8: Nesting\n",
    "\n",
    "### Nesting:\n",
    "- Placing control structures inside others, e.g., if inside another if.\n",
    "\n",
    "Example:\n",
    "```javascript\n",
    "if (age >= 18) {\n",
    "  if (age >= 21) {\n",
    "    console.log(\"You can drink alcohol.\");\n",
    "  } else {\n",
    "    console.log(\"You are an adult but cannot drink alcohol.\");\n",
    "  }\n",
    "}\n",
    "```"
   ]
  },
  {
   "cell_type": "markdown",
   "metadata": {},
   "source": [
    "## CHAPTER 9: JavaScript Functions Overview\n",
    "\n",
    "### Functions:\n",
    "- Define reusable blocks of code.\n",
    "- Can accept parameters and return values.\n",
    "\n",
    "### Types:\n",
    "- Function declaration\n",
    "- Anonymous function (often used with event handlers)\n",
    "- Arrow function (concise syntax, no own `this`)\n",
    "\n",
    "Example:\n",
    "```javascript\n",
    "function greet(name) {\n",
    "  return `Hello, ${name}`;\n",
    "}\n",
    "console.log(greet(\"John\")); // \"Hello, John\"\n",
    "\n",
    "const double = x => x * 2;\n",
    "console.log(double(4)); // 8\n",
    "```"
   ]
  },
  {
   "cell_type": "markdown",
   "metadata": {},
   "source": [
    "## CHAPTER 10: JavaScript Loops Overview\n",
    "\n",
    "### Loops:\n",
    "- `while`: Repeats as long as a condition is true.\n",
    "- `for`: Runs a block of code a specified number of times.\n",
    "- `for...of`: Iterates over iterable objects (arrays, strings).\n",
    "- `for...in`: Iterates over object properties.\n",
    "\n",
    "Example:\n",
    "```javascript\n",
    "const fruits = [\"apple\", \"banana\", \"cherry\"];\n",
    "for (const fruit of fruits) {\n",
    "  console.log(fruit);\n",
    "}\n",
    "\n",
    "const person = { name: \"John\", age: 30 };\n",
    "for (const key in person) {\n",
    "  console.log(`${key}: ${person[key]}`);\n",
    "}\n",
    "```"
   ]
  },
  {
   "cell_type": "markdown",
   "metadata": {},
   "source": [
    "## CHAPTER 11: JavaScript Arrays Overview\n",
    "\n",
    "### Arrays:\n",
    "- Collection of elements.\n",
    "- Can hold mixed data types.\n",
    "\n",
    "### Methods:\n",
    "- `push`, `pop`, `shift`, `unshift`: Add/remove elements.\n",
    "- `forEach`, `map`, `filter`, `reduce`: Array iteration and transformation.\n",
    "\n",
    "Example:\n",
    "```javascript\n",
    "const numbers = [1, 2, 3, 4, 5];\n",
    "numbers.push(6); // [1, 2, 3, 4, 5, 6]\n",
    "\n",
    "const doubled = numbers.map(num => num * 2);\n",
    "console.log(doubled); // [2, 4, 6, 8, 10]\n",
    "```\n",
    "\n",
    "More array methods at [W3Schools](https://www.w3schools.com/js/js_array_methods.asp)"
   ]
  },
  {
   "cell_type": "markdown",
   "metadata": {},
   "source": [
    "## CHAPTER 12: DOM Manipulation and Events Overview\n",
    "\n",
    "### DOM Manipulation:\n",
    "- **Document Object Model (DOM)**: Interface to manipulate HTML and XML documents.\n",
    "- **DOM Elements**: Represent HTML elements in the document.\n",
    "- **Common Methods**:\n",
    "  - `document.getElementById(id)`: Select element by ID.\n",
    "  - `document.getElementsByClassName(className)`: Select elements by class name.\n",
    "  - `document.getElementsByTagName(tagName)`: Select elements by tag name.\n",
    "  - `document.querySelector(selector)`: Select the first element that matches the CSS selector.\n",
    "  - `document.querySelectorAll(selector)`: Select all elements that match the CSS selector.\n"
   ]
  },
  {
   "cell_type": "code",
   "execution_count": null,
   "metadata": {},
   "outputs": [],
   "source": [
    "const heading = document.getElementById('myHeading');\n",
    "heading.textContent = 'Hello, DOM!'; // Change text content\n",
    "heading.style.color = 'blue'; // Change style"
   ]
  },
  {
   "cell_type": "markdown",
   "metadata": {},
   "source": [
    "### Manipulating Elements:\n",
    "- **Text Content**: `element.textContent`\n",
    "- **HTML Content**: `element.innerHTML`\n",
    "- **Attributes**: `element.getAttribute(attributeName)`, `element.setAttribute(attributeName, value)`\n",
    "- **Styles**: `element.style.propertyName = value`"
   ]
  },
  {
   "cell_type": "markdown",
   "metadata": {},
   "source": [
    "### Creating and Appending Elements:\n",
    "- **Create Element**: `document.createElement(tagName)`\n",
    "- **Append Child**: `parentElement.appendChild(newElement)`"
   ]
  },
  {
   "cell_type": "code",
   "execution_count": null,
   "metadata": {},
   "outputs": [],
   "source": [
    "const newParagraph = document.createElement('p');\n",
    "newParagraph.textContent = 'This is a new paragraph.';\n",
    "document.body.appendChild(newParagraph);"
   ]
  },
  {
   "cell_type": "markdown",
   "metadata": {},
   "source": [
    "### Events:\n",
    "- **Event Listeners**: Functions that execute when an event occurs.\n",
    "- **Common Events**: `click`, `mouseover`, `mouseout`, `keydown`, `load`, etc.\n",
    "- **Adding Event Listeners**: `element.addEventListener(event, function)`"
   ]
  },
  {
   "cell_type": "code",
   "execution_count": null,
   "metadata": {},
   "outputs": [],
   "source": [
    "const button = document.getElementById('myButton');\n",
    "button.addEventListener('click', () => {\n",
    "  alert('Button was clicked!');\n",
    "});"
   ]
  },
  {
   "cell_type": "markdown",
   "metadata": {},
   "source": [
    "### Removing Event Listeners:\n",
    "- **Remove Event Listener**: `element.removeEventListener(event, function)`"
   ]
  },
  {
   "cell_type": "code",
   "execution_count": null,
   "metadata": {},
   "outputs": [],
   "source": [
    "const button = document.getElementById('myButton');\n",
    "function handleClick() {\n",
    "  alert('Button was clicked!');\n",
    "}\n",
    "button.addEventListener('click', handleClick);\n",
    "button.removeEventListener('click', handleClick);"
   ]
  },
  {
   "cell_type": "markdown",
   "metadata": {},
   "source": [
    "### Event Propagation:\n",
    "- **Event Bubbling**: Event propagates from child to parent.\n",
    "- **Event Capturing**: Event propagates from parent to child.\n",
    "- **Stop Propagation**: `event.stopPropagation()`"
   ]
  },
  {
   "cell_type": "code",
   "execution_count": null,
   "metadata": {},
   "outputs": [],
   "source": [
    "document.getElementById('parent').addEventListener('click', () => {\n",
    "  alert('Parent clicked!');\n",
    "});\n",
    "document.getElementById('child').addEventListener('click', (event) => {\n",
    "  alert('Child clicked!');\n",
    "  event.stopPropagation(); // Prevents parent from being notified\n",
    "});"
   ]
  },
  {
   "cell_type": "markdown",
   "metadata": {},
   "source": [
    "### Prevent Default Behavior:\n",
    "- **Prevent Default**: `event.preventDefault()`"
   ]
  },
  {
   "cell_type": "code",
   "execution_count": null,
   "metadata": {},
   "outputs": [],
   "source": [
    "const link = document.getElementById('myLink');\n",
    "link.addEventListener('click', (event) => {\n",
    "  event.preventDefault(); // Prevents the default action of the link\n",
    "  alert('Link click prevented!');\n",
    "});"
   ]
  },
  {
   "cell_type": "markdown",
   "metadata": {},
   "source": [
    "### More DOM Methods and Events:\n",
    "Find more DOM methods and events at [MDN Web Docs](https://developer.mozilla.org/en-US/docs/Web/API/Document_Object_Model)."
   ]
  },
  {
   "cell_type": "markdown",
   "metadata": {},
   "source": []
  }
 ],
 "metadata": {
  "kernelspec": {
   "display_name": "JavaScript (Node.js)",
   "language": "javascript",
   "name": "javascript"
  },
  "language_info": {
   "file_extension": ".js",
   "mimetype": "application/javascript",
   "name": "javascript",
   "version": "12.14.1"
  }
 },
 "nbformat": 4,
 "nbformat_minor": 2
}
