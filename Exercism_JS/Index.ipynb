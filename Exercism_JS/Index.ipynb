{
 "cells": [
  {
   "cell_type": "markdown",
   "metadata": {},
   "source": [
    "***JavaScript Exercism Index***\n",
    "\n",
    "\n",
    "- [Basics](./1st%20Part/1st%20layer/Basics.js) - const let var, function, import export\n",
    "- [Boolean](./1st%20Part/1st%20layer/Booleans.js) - ! && ||\n",
    "- [Numbers](./1st%20Part/1st%20layer/Numbers.js) - number, bigint, math.floor(), math.ceil(), operators, +=\n",
    "- [Strings](./1st%20Part/1st%20layer/Strings.js) - str[], .length, ''+''\n",
    "\n",
    "<br>\n",
    "\n",
    "- [Array](./1st%20Part/2nd%20layer/Arrays.js) - [], .length, list[index], .push(), .pop(), .shift(), .unshift(), .splice()\n",
    "- [Conditionals Comparison](./1st%20Part/2nd%20layer/ConditionalsComparison.js) - if else if > < etc\n",
    "\n",
    "<br>\n",
    "\n",
    "- [Increment Decrement](./1st%20Part/3rd%20layer/IncrementDecrement&ForLoops.js) - i++, i--\n",
    "- [Objects](./1st%20Part/3rd%20layer/Objects.js) - {}, obj.item, obj[item], delete, obj[][], for (let k in obj)\n",
    "- [Switch & While](./1st%20Part/3rd%20layer/Switch&While.js) - while(){} do{}, switch(){case:break, default:}\n",
    "\n",
    "<br> \n",
    "\n",
    "- [Callback](./2nd%20Part/1st%20layer/Callbacks.js) - A callback is a function passed as an argument to another function\n",
    "- [Closures](./2nd%20Part/1st%20layer/Closures.js) - Scope and all that\n",
    "- [Functions](./2nd%20Part/1st%20layer/Functions.js) - function ...(), defaultValue, const F = F(..){..}, const obj = { functionName : function(param) {}}\n",
    "- [Null & Undefined](./2nd%20Part/1st%20layer/NullUndefined.js) - null, undefined, ??\n",
    "- [TemplateString & Ternary Operators](./2nd%20Part/1st%20layer/TemplateStrings&TernaryOperators.js) - \\`${}\\`, Ternary Operator(condition ? true : false), .toFixed()\n",
    "- [Type Conversion](./2nd%20Part/1st%20layer/TypeConversion.js) - .join(), .split(), String(), Boolean(), Number()\n",
    "\n",
    "<br>\n",
    "\n",
    "- [Arrow Function & Array analysis](./2nd%20Part/2nd%20layer/ArrowFunction&ArrayAnalysis.js) - ()=>{}, .indexOf(), .includes(), .every(), .some(), .find(), .findIndex()\n",
    "- [Prototypes & Classes](./2nd%20Part/2nd%20layer/Prototypes&Classes.js) - this., .prototype., class, get, set\n",
    "- [Rest & Spread](./2nd%20Part/2nd%20layer/RestSpread&ArrayDestructuring.js) - [..,..,..] = arr, Rest (a, b, ..c = []), Spread(a, b, c = [...a, b, c])\n",
    "\n",
    "<br> \n",
    "\n",
    "- [Array Transformation](./2nd%20Part/3rd%20layer/ArrayTransformations.js) - .map(), .filter(), .reduce(), .reverse(), .slice(), .splice(), .sort()\n",
    "- [Errors & Inheritance](./2nd%20Part/3rd%20layer/Errors&Inheritance.js) - new Error(), throw, try{}catch{}, isPrototypeOf(), hasOwnProperty()\n",
    "- [Regex](./2nd%20Part/3rd%20layer/Regex.js) - g, i, m, /.../, new RegExp(), .test(), .match(), .replace(), .split()\n",
    "\n",
    "<br> \n",
    "\n",
    "- [Array Loops](./2nd%20Part/4th%20layer/ArrayLoops.js) - for (.. of ..), .forEach((number, index) => {})\n",
    "- [Promises](./2nd%20Part/4th%20layer/Promises.js) - new Promise (function (resolve, reject) {...}), .then, .catch, .finally\n",
    "- [Recursion](./2nd%20Part/4th%20layer/Recursion.js) - Recursion\n",
    "- [Sets](./2nd%20Part/4th%20layer/Sets.js) - new Set(), set.add(), set.has(), set.delete(), set.size, [...set]\n"
   ]
  }
 ],
 "metadata": {
  "language_info": {
   "name": "python"
  }
 },
 "nbformat": 4,
 "nbformat_minor": 2
}
